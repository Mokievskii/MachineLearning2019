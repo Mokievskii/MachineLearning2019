{
 "cells": [
  {
   "cell_type": "code",
   "execution_count": 1,
   "metadata": {},
   "outputs": [],
   "source": [
    "# Problem 02 (1)"
   ]
  },
  {
   "cell_type": "code",
   "execution_count": 2,
   "metadata": {},
   "outputs": [
    {
     "name": "stdout",
     "output_type": "stream",
     "text": [
      "Please enter a number 111\n",
      "Its an odd number \n"
     ]
    }
   ],
   "source": [
    "number = input(\"Please enter a number \")\n",
    "tmp = number % 2\n",
    "if tmp==1:\n",
    "    print(\"Its an odd number \")\n",
    "else:\n",
    "    print(\"Its an even number \")"
   ]
  },
  {
   "cell_type": "code",
   "execution_count": 3,
   "metadata": {},
   "outputs": [],
   "source": [
    "# Problem 03 (2)"
   ]
  },
  {
   "cell_type": "code",
   "execution_count": 5,
   "metadata": {},
   "outputs": [
    {
     "name": "stdout",
     "output_type": "stream",
     "text": [
      "Please enter a number 244\n",
      "There are all of divisors: \n",
      "[1, 2, 4, 61, 122, 244]\n"
     ]
    }
   ],
   "source": [
    "number = input(\"Please enter a number \")\n",
    "div = []\n",
    "tmp = list(range(1, number+1))\n",
    "for i in tmp:\n",
    "    if number%i==0 :\n",
    "        div.append(i)\n",
    "print(\"There are all of divisors: \")\n",
    "print(div)"
   ]
  },
  {
   "cell_type": "code",
   "execution_count": 6,
   "metadata": {},
   "outputs": [],
   "source": [
    "# Problem 05 (2)"
   ]
  },
  {
   "cell_type": "code",
   "execution_count": 7,
   "metadata": {},
   "outputs": [
    {
     "name": "stdout",
     "output_type": "stream",
     "text": [
      "[1, 2, 3, 5, 8, 13]\n"
     ]
    }
   ],
   "source": [
    "a = [1, 1, 2, 3, 5, 8, 13, 21, 34, 55, 89]\n",
    "b = [1, 2, 3, 4, 5, 6, 7, 8, 9, 10, 11, 12, 13]\n",
    "c = []\n",
    "s1 = len(a)\n",
    "s2 = len(b)\n",
    "for n in a:\n",
    "    if n in b:\n",
    "        if n not in c:\n",
    "            c.append(n)\n",
    "print(c)"
   ]
  },
  {
   "cell_type": "code",
   "execution_count": 8,
   "metadata": {},
   "outputs": [],
   "source": [
    "# Problem 13 (2)"
   ]
  },
  {
   "cell_type": "code",
   "execution_count": 22,
   "metadata": {},
   "outputs": [
    {
     "name": "stdout",
     "output_type": "stream",
     "text": [
      "Please enter how many numbers you would like to have 20\n",
      "[1, 1, 2, 3, 5, 8, 13, 21, 34, 55, 89, 144, 233, 377, 610, 987, 1597, 2584, 4181, 6765]\n"
     ]
    }
   ],
   "source": [
    "col = input(\"Please enter how many numbers you would like to have \")\n",
    "if col==0:\n",
    "    f = []\n",
    "elif col==1:\n",
    "    f = [1]\n",
    "elif col==2:\n",
    "    f = [1,1]\n",
    "elif col>2:\n",
    "    f = [1,1]\n",
    "    for i in list(range(2,col)):\n",
    "        f.append(f[i-1] + f[i-2])\n",
    "print(f)"
   ]
  },
  {
   "cell_type": "code",
   "execution_count": null,
   "metadata": {},
   "outputs": [],
   "source": [
    "# Problem 15 (3)"
   ]
  },
  {
   "cell_type": "code",
   "execution_count": 26,
   "metadata": {},
   "outputs": [
    {
     "name": "stdout",
     "output_type": "stream",
     "text": [
      "Please enter a sentence: he is an idiot\n",
      "idiot an is he\n"
     ]
    }
   ],
   "source": [
    "s = raw_input(\"Please enter a sentence: \")\n",
    "tmp = s.split()\n",
    "tmp.reverse()\n",
    "tmp2 = \" \".join(tmp)\n",
    "print(tmp2)"
   ]
  },
  {
   "cell_type": "code",
   "execution_count": 27,
   "metadata": {},
   "outputs": [],
   "source": [
    "# Problem 06 (2)"
   ]
  },
  {
   "cell_type": "code",
   "execution_count": 34,
   "metadata": {},
   "outputs": [
    {
     "name": "stdout",
     "output_type": "stream",
     "text": [
      "Please enter a word: gangan\n",
      "Its not a pallindrome\n"
     ]
    }
   ],
   "source": [
    "s = raw_input(\"Please enter a word: \")\n",
    "s1 = str(s)\n",
    "tmp = s[::-1]\n",
    "if tmp==s:\n",
    "    print(\"Its a pallindrome \")\n",
    "else:\n",
    "    print(\"Its not a pallindrome\")"
   ]
  },
  {
   "cell_type": "code",
   "execution_count": null,
   "metadata": {},
   "outputs": [],
   "source": []
  }
 ],
 "metadata": {
  "kernelspec": {
   "display_name": "Python 2",
   "language": "python",
   "name": "python2"
  },
  "language_info": {
   "codemirror_mode": {
    "name": "ipython",
    "version": 2
   },
   "file_extension": ".py",
   "mimetype": "text/x-python",
   "name": "python",
   "nbconvert_exporter": "python",
   "pygments_lexer": "ipython2",
   "version": "2.7.16"
  }
 },
 "nbformat": 4,
 "nbformat_minor": 2
}
