{
 "cells": [
  {
   "cell_type": "code",
   "execution_count": 2,
   "metadata": {},
   "outputs": [],
   "source": [
    "import numpy as np"
   ]
  },
  {
   "cell_type": "code",
   "execution_count": 3,
   "metadata": {},
   "outputs": [],
   "source": [
    "#TASK 1\n",
    "array = np.random.random((10,3))"
   ]
  },
  {
   "cell_type": "code",
   "execution_count": 5,
   "metadata": {},
   "outputs": [
    {
     "name": "stdout",
     "output_type": "stream",
     "text": [
      "[[0.52835215 0.19318289 0.89211951]\n",
      " [0.0446116  0.91336369 0.26587745]\n",
      " [0.25307315 0.8292712  0.15670901]\n",
      " [0.8745099  0.82375105 0.23477142]\n",
      " [0.63456839 0.15533936 0.90527606]\n",
      " [0.86788218 0.12000435 0.64840562]\n",
      " [0.35265385 0.72005902 0.87994785]\n",
      " [0.8556947  0.39768799 0.13867794]\n",
      " [0.25623223 0.77703768 0.4035858 ]\n",
      " [0.15194639 0.67370005 0.29826071]]\n",
      "[0.52835215 0.26587745 0.25307315 0.23477142 0.63456839 0.64840562\n",
      " 0.35265385 0.39768799 0.4035858  0.67370005]\n"
     ]
    }
   ],
   "source": [
    "near = []\n",
    "near = array[np.arange(10), np.abs(array-0.5).argmin(axis=1)]\n",
    "print(array)\n",
    "print(near)"
   ]
  },
  {
   "cell_type": "code",
   "execution_count": 6,
   "metadata": {},
   "outputs": [],
   "source": [
    "# TASK 2\n",
    "array = np.random.random((6,6))"
   ]
  },
  {
   "cell_type": "code",
   "execution_count": 33,
   "metadata": {},
   "outputs": [
    {
     "name": "stdout",
     "output_type": "stream",
     "text": [
      "[[0.16645958 0.87337031 0.2659168  0.25888268 0.47120217 0.7577992 ]\n",
      " [0.97360474 0.17670226 0.18314878 0.13957465 0.74036281 0.46171055]\n",
      " [0.33478647 0.70729293 0.68309604 0.85888135 0.0846251  0.69992726]\n",
      " [0.08813503 0.50328052 0.241509   0.30889051 0.8158809  0.14128023]\n",
      " [0.24574767 0.16985733 0.86628171 0.23916109 0.27081368 0.68038335]\n",
      " [0.50659879 0.13047007 0.22224482 0.22781884 0.99204373 0.4414395 ]]\n",
      "[31.69716605 20.50358246 18.39274653 15.03837698 29.21408471 17.84124912]\n"
     ]
    }
   ],
   "source": [
    "res = []\n",
    "s = array.sum(axis=1)\n",
    "m = array.min(axis=0)\n",
    "res = s/m\n",
    "print(array)\n",
    "print(res)"
   ]
  },
  {
   "cell_type": "code",
   "execution_count": 43,
   "metadata": {},
   "outputs": [],
   "source": [
    "# TASK 3\n",
    "x = np.array([6, 2, 0, 3, 0, 0, 5, 7, 0])"
   ]
  },
  {
   "cell_type": "code",
   "execution_count": 49,
   "metadata": {},
   "outputs": [
    {
     "name": "stdout",
     "output_type": "stream",
     "text": [
      "5\n"
     ]
    }
   ],
   "source": [
    "mask = x==0\n",
    "s = x[1:][mask[:-1]].max()\n",
    "print(s)"
   ]
  },
  {
   "cell_type": "code",
   "execution_count": 6,
   "metadata": {},
   "outputs": [
    {
     "name": "stdout",
     "output_type": "stream",
     "text": [
      "[2. 2. 2. 2. 1. 4. 1. 1. 2. 1.]\n"
     ]
    }
   ],
   "source": [
    "# TASK 4\n",
    "x = np.ones(10)\n",
    "i = np.array([0, 1, 2, 3, 5, 5, 5, 8])\n",
    "x=np.array([i==j for j in range (10)]).sum(axis=1)+x\n",
    "print(x)"
   ]
  },
  {
   "cell_type": "code",
   "execution_count": 7,
   "metadata": {},
   "outputs": [],
   "source": [
    "# TASK 5\n",
    "a = np.arange(16).reshape(4, 4)\n",
    "n = 4"
   ]
  },
  {
   "cell_type": "code",
   "execution_count": 160,
   "metadata": {},
   "outputs": [],
   "source": [
    "d = {k: np.fliplr(a).diagonal(n-k-1) for k in range(2*n - 1)}"
   ]
  },
  {
   "cell_type": "code",
   "execution_count": 140,
   "metadata": {},
   "outputs": [
    {
     "name": "stdout",
     "output_type": "stream",
     "text": [
      "[[ 0  1  2  3]\n",
      " [ 4  5  6  7]\n",
      " [ 8  9 10 11]\n",
      " [12 13 14 15]]\n",
      "{0: array([0]), 1: array([1, 4]), 2: array([2, 5, 8]), 3: array([ 3,  6,  9, 12]), 4: array([ 7, 10, 13]), 5: array([11, 14]), 6: array([15])}\n"
     ]
    }
   ],
   "source": [
    "print(a)\n",
    "print(d)"
   ]
  },
  {
   "cell_type": "code",
   "execution_count": 154,
   "metadata": {},
   "outputs": [],
   "source": [
    "# TASK 6\n"
   ]
  },
  {
   "cell_type": "code",
   "execution_count": null,
   "metadata": {},
   "outputs": [],
   "source": []
  },
  {
   "cell_type": "code",
   "execution_count": 11,
   "metadata": {},
   "outputs": [],
   "source": [
    "def kmeans(a, k, s = 20, eps = 1e-05): \n",
    "    i = 0\n",
    "    N = len(a[0]) \n",
    "    dim = len(a[1])\n",
    "    centr = a[:k, :] \n",
    "    centr_tmp = np.zeros((k, dim))\n",
    "    a = np.expand_dims(a, axis = 1) \n",
    "    d = dim * N * np.max(a)**2 \n",
    "    d1 = 0\n",
    "    \n",
    "    while d1 - d > eps or i < s:\n",
    "        d1 = d\n",
    "        centr_tmp = centr\n",
    "        \n",
    "        numcentr = np.argmin(((a - centr) ** 2).sum(axis = 2), axis = 1) \n",
    "        C = np.zeros(N * k * dim).reshape(N, k, dim)\n",
    "        C[np.arange(N), numcentr, :] = (a - centr)[np.arange(N),  numcentr, :] / np.bincount(numcentr)[numcentr].reshape(N, 1)\n",
    "        centr = centr_tmp + np.squeeze(C.sum(axis = 0))        \n",
    "\n",
    "        numcentr = np.argmin(((a - centr) ** 2).sum(axis = 2), axis = 1)\n",
    "        C = np.zeros(N * k * dim).reshape(N, k, m)\n",
    "        C[np.arange(N), numcentr, :] = (a - centr)[np.arange(N),  numcentr, :]\n",
    "        d = np.sqrt((C ** 2).sum(axis = 2)).sum(axis = 1).mean()         \n",
    "        i = i + 1\n",
    "        \n",
    "    return centr, d"
   ]
  },
  {
   "cell_type": "code",
   "execution_count": null,
   "metadata": {},
   "outputs": [],
   "source": []
  },
  {
   "cell_type": "code",
   "execution_count": null,
   "metadata": {},
   "outputs": [],
   "source": []
  }
 ],
 "metadata": {
  "kernelspec": {
   "display_name": "Python 3",
   "language": "python",
   "name": "python3"
  },
  "language_info": {
   "codemirror_mode": {
    "name": "ipython",
    "version": 3
   },
   "file_extension": ".py",
   "mimetype": "text/x-python",
   "name": "python",
   "nbconvert_exporter": "python",
   "pygments_lexer": "ipython3",
   "version": "3.7.3"
  }
 },
 "nbformat": 4,
 "nbformat_minor": 2
}
