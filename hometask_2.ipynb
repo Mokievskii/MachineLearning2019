{
 "cells": [
  {
   "cell_type": "code",
   "execution_count": 4,
   "metadata": {},
   "outputs": [],
   "source": [
    "import numpy as np"
   ]
  },
  {
   "cell_type": "code",
   "execution_count": 5,
   "metadata": {},
   "outputs": [],
   "source": [
    "#TASK 1\n",
    "array = np.random.random((10,3))"
   ]
  },
  {
   "cell_type": "code",
   "execution_count": 6,
   "metadata": {},
   "outputs": [
    {
     "name": "stdout",
     "output_type": "stream",
     "text": [
      "[[0.57061695 0.68897981 0.85124949]\n",
      " [0.66928405 0.26839308 0.17760918]\n",
      " [0.87907371 0.82532622 0.98964299]\n",
      " [0.41831973 0.84042825 0.09607549]\n",
      " [0.42879704 0.09293501 0.76532893]\n",
      " [0.7203666  0.28310771 0.59386866]\n",
      " [0.84719292 0.59851529 0.55615933]\n",
      " [0.56257179 0.79059767 0.80140022]\n",
      " [0.08168885 0.50087459 0.63178045]\n",
      " [0.19100373 0.91259672 0.86302887]]\n",
      "[0.57061695 0.66928405 0.82532622 0.41831973 0.42879704 0.59386866\n",
      " 0.55615933 0.56257179 0.50087459 0.19100373]\n"
     ]
    }
   ],
   "source": [
    "near = []\n",
    "near = array[np.arange(10), np.abs(array-0.5).argmin(axis=1)]\n",
    "print(array)\n",
    "print(near)"
   ]
  },
  {
   "cell_type": "code",
   "execution_count": 7,
   "metadata": {},
   "outputs": [],
   "source": [
    "# TASK 2\n",
    "array = np.random.random((6,6))"
   ]
  },
  {
   "cell_type": "code",
   "execution_count": 8,
   "metadata": {},
   "outputs": [
    {
     "name": "stdout",
     "output_type": "stream",
     "text": [
      "[[0.33566515 0.69069755 0.76900557 0.05673965 0.34729194 0.66089032]\n",
      " [0.36769359 0.70966215 0.28876563 0.29310493 0.74972026 0.47608627]\n",
      " [0.09694784 0.30221655 0.72066251 0.29462442 0.85131588 0.4564779 ]\n",
      " [0.1598239  0.82411665 0.776475   0.77395081 0.25837601 0.8893029 ]\n",
      " [0.95273878 0.02589812 0.36999846 0.17218877 0.07693724 0.11349177]\n",
      " [0.83623457 0.38679159 0.97389005 0.50261421 0.86565632 0.67666734]]\n",
      "[ 29.5033916  111.39931092   9.42717847  64.89369527  22.24219526\n",
      "  37.37587544]\n"
     ]
    }
   ],
   "source": [
    "res = []\n",
    "s = array.sum(axis=1)\n",
    "m = array.min(axis=0)\n",
    "res = s/m\n",
    "print(array)\n",
    "print(res)"
   ]
  },
  {
   "cell_type": "code",
   "execution_count": 9,
   "metadata": {},
   "outputs": [],
   "source": [
    "# TASK 3\n",
    "x = np.array([6, 2, 0, 3, 0, 0, 5, 7, 0])"
   ]
  },
  {
   "cell_type": "code",
   "execution_count": 10,
   "metadata": {},
   "outputs": [
    {
     "name": "stdout",
     "output_type": "stream",
     "text": [
      "5\n"
     ]
    }
   ],
   "source": [
    "mask = x==0\n",
    "s = x[1:][mask[:-1]].max()\n",
    "print(s)"
   ]
  },
  {
   "cell_type": "code",
   "execution_count": 11,
   "metadata": {},
   "outputs": [
    {
     "name": "stdout",
     "output_type": "stream",
     "text": [
      "[2. 2. 2. 2. 1. 4. 1. 1. 2. 1.]\n"
     ]
    }
   ],
   "source": [
    "# TASK 4\n",
    "x = np.ones(10)\n",
    "i = np.array([0, 1, 2, 3, 5, 5, 5, 8])\n",
    "x=np.array([i==j for j in range (10)]).sum(axis=1)+x\n",
    "print(x)"
   ]
  },
  {
   "cell_type": "code",
   "execution_count": 12,
   "metadata": {},
   "outputs": [],
   "source": [
    "# TASK 5\n",
    "a = np.arange(16).reshape(4, 4)\n",
    "n = 4"
   ]
  },
  {
   "cell_type": "code",
   "execution_count": 13,
   "metadata": {},
   "outputs": [],
   "source": [
    "d = {k: np.fliplr(a).diagonal(n-k-1) for k in range(2*n - 1)}"
   ]
  },
  {
   "cell_type": "code",
   "execution_count": 14,
   "metadata": {},
   "outputs": [
    {
     "name": "stdout",
     "output_type": "stream",
     "text": [
      "[[ 0  1  2  3]\n",
      " [ 4  5  6  7]\n",
      " [ 8  9 10 11]\n",
      " [12 13 14 15]]\n",
      "{0: array([0]), 1: array([1, 4]), 2: array([2, 5, 8]), 3: array([ 3,  6,  9, 12]), 4: array([ 7, 10, 13]), 5: array([11, 14]), 6: array([15])}\n"
     ]
    }
   ],
   "source": [
    "print(a)\n",
    "print(d)"
   ]
  },
  {
   "cell_type": "code",
   "execution_count": 15,
   "metadata": {},
   "outputs": [],
   "source": [
    "# TASK 6\n"
   ]
  },
  {
   "cell_type": "code",
   "execution_count": null,
   "metadata": {},
   "outputs": [],
   "source": []
  },
  {
   "cell_type": "code",
   "execution_count": 50,
   "metadata": {},
   "outputs": [
    {
     "data": {
      "image/png": "[encoded data removed]",
      "text/plain": [
       "<Figure size 432x288 with 1 Axes>"
      ]
     },
     "metadata": {
      "needs_background": "light"
     },
     "output_type": "display_data"
    }
   ],
   "source": [
    "def kmeans(a, k, s = 20, eps = 1e-05): \n",
    "    i = 0\n",
    "    N = a.shape[0] \n",
    "    dim = a.shape[1]\n",
    "    centr = a[:k]\n",
    "    centr_tmp = np.zeros((k, dim))\n",
    "    a = np.expand_dims(a, axis = 1) \n",
    "    d = dim * N * np.max(a)**2 \n",
    "    d1 = 0\n",
    "    \n",
    "    while d1 - d > eps or i < s:\n",
    "        d1 = d\n",
    "        centr_tmp = centr\n",
    "        \n",
    "        numcentr = np.argmin(((a - centr) ** 2).sum(axis = 2), axis = 1) \n",
    "        C = np.zeros(N * k * dim).reshape(N, k, dim)\n",
    "        C[np.arange(N), numcentr, :] = (a - centr)[np.arange(N),  numcentr, :] / np.bincount(numcentr)[numcentr].reshape(N, 1)\n",
    "        centr = centr_tmp + np.squeeze(C.sum(axis = 0))        \n",
    "\n",
    "        numcentr = np.argmin(((a - centr) ** 2).sum(axis = 2), axis = 1)\n",
    "        C = np.zeros(N * k * dim).reshape(N, k, dim)\n",
    "        C[np.arange(N), numcentr, :] = (a - centr)[np.arange(N),  numcentr, :]\n",
    "        d = np.sqrt((C ** 2).sum(axis = 2)).sum(axis = 1).mean()         \n",
    "        i = i + 1\n",
    "        \n",
    "    return centr, d\n",
    "def get_labels(pts, centroids):\n",
    "    dist = np.hstack([np.linalg.norm(pts - centroid, axis=1).reshape(-1, 1) for centroid in centroids])\n",
    "    return np.argmin(dist, axis=1)\n",
    "\n",
    "import matplotlib.pyplot as plt\n",
    "data = np.loadtxt('http://www.stat.cmu.edu/~larry/all-of-statistics/=data/faithful.dat', skiprows=26)[:, 1:]\n",
    "centroids = kmeans(data, 2)[0]\n",
    "labels = get_labels(data, centroids)\n",
    "plt.scatter(*data.T, c=np.where(labels, \"green\", \"red\"), s=20)\n",
    "plt.scatter(*centroids.T, c=[\"red\", \"green\"], s=95, marker='*')\n",
    "plt.title('Predicted Classes')\n",
    "plt.show()"
   ]
  },
  {
   "cell_type": "code",
   "execution_count": 47,
   "metadata": {},
   "outputs": [
    {
     "data": {
      "text/plain": [
       "array([0, 1, 0, 1, 0, 1, 0, 0, 1, 0, 1, 0, 0, 1, 0, 1, 1, 0, 1, 0, 1, 1,\n",
       "       0, 0, 0, 0, 1, 0, 0, 0, 0, 0, 1, 0, 0, 1, 1, 0, 1, 0, 0, 1, 0, 1,\n",
       "       0, 0, 1, 1, 0, 1, 0, 0, 1, 0, 1, 0, 0, 1, 0, 0, 1, 0, 1, 0, 1, 0,\n",
       "       0, 0, 1, 0, 0, 1, 0, 0, 1, 0, 1, 0, 0, 0, 0, 0, 0, 1, 0, 0, 0, 0,\n",
       "       1, 0, 1, 0, 1, 0, 1, 0, 0, 0, 1, 0, 1, 0, 1, 0, 0, 1, 0, 1, 0, 0,\n",
       "       0, 1, 0, 0, 1, 0, 1, 0, 1, 0, 1, 0, 0, 1, 0, 0, 1, 0, 1, 0, 1, 0,\n",
       "       1, 0, 1, 0, 1, 0, 1, 0, 0, 1, 0, 0, 0, 1, 0, 1, 0, 1, 0, 0, 1, 0,\n",
       "       0, 0, 0, 0, 1, 0, 1, 0, 1, 0, 1, 0, 1, 0, 1, 0, 1, 1, 0, 0, 0, 0,\n",
       "       0, 1, 0, 0, 1, 0, 0, 0, 1, 0, 0, 1, 0, 1, 0, 1, 0, 0, 0, 0, 0, 0,\n",
       "       1, 0, 1, 0, 0, 1, 0, 1, 0, 0, 1, 0, 0, 0, 1, 0, 1, 0, 1, 0, 1, 0,\n",
       "       1, 0, 1, 0, 0, 0, 0, 0, 0, 0, 0, 1, 0, 1, 0, 1, 1, 0, 0, 1, 0, 1,\n",
       "       0, 1, 0, 0, 1, 0, 1, 0, 1, 0, 0, 0, 0, 0, 0, 0, 1, 0, 0, 0, 1, 0,\n",
       "       1, 1, 0, 0, 1, 0, 1, 0])"
      ]
     },
     "execution_count": 47,
     "metadata": {},
     "output_type": "execute_result"
    }
   ],
   "source": [
    "centroids"
   ]
  },
  {
   "cell_type": "code",
   "execution_count": null,
   "metadata": {},
   "outputs": [],
   "source": []
  }
 ],
 "metadata": {
  "kernelspec": {
   "display_name": "Python 3",
   "language": "python",
   "name": "python3"
  },
  "language_info": {
   "codemirror_mode": {
    "name": "ipython",
    "version": 3
   },
   "file_extension": ".py",
   "mimetype": "text/x-python",
   "name": "python",
   "nbconvert_exporter": "python",
   "pygments_lexer": "ipython3",
   "version": "3.7.3"
  }
 },
 "nbformat": 4,
 "nbformat_minor": 2
}
