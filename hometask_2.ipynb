{
 "cells": [
  {
   "cell_type": "code",
   "execution_count": 5,
   "metadata": {},
   "outputs": [],
   "source": [
    "import numpy as np"
   ]
  },
  {
   "cell_type": "code",
   "execution_count": 2,
   "metadata": {},
   "outputs": [],
   "source": [
    "#TASK 1\n",
    "array = np.random.random((10,3))"
   ]
  },
  {
   "cell_type": "code",
   "execution_count": 20,
   "metadata": {},
   "outputs": [
    {
     "name": "stdout",
     "output_type": "stream",
     "text": [
      "[[0.83900748 0.54121124 0.84018996]\n",
      " [0.89495252 0.22497405 0.28164133]\n",
      " [0.78345577 0.30308617 0.69439507]\n",
      " [0.50094212 0.67472595 0.37200658]\n",
      " [0.95177975 0.09940406 0.47574512]\n",
      " [0.06660629 0.43597771 0.87437089]\n",
      " [0.71398013 0.13855342 0.94525491]\n",
      " [0.73063118 0.5426598  0.86696472]\n",
      " [0.03056596 0.83655753 0.75334456]\n",
      " [0.34058722 0.96551662 0.66621429]]\n",
      "[0.5412112379585338, 0.22497405021792816, 0.3030861716427261, 0.5009421206183058, 0.09940405769659211, 0.06660629398697038, 0.7139801262873089, 0.5426597963108608, 0.030565960852674046, 0.34058722067600955]\n"
     ]
    }
   ],
   "source": [
    "tmp = 1\n",
    "near = []\n",
    "for i in range(10):\n",
    "    for j in array[i]:\n",
    "        if abs(j-0.5) < (tmp-0.5) :\n",
    "            tmp = j\n",
    "    near.append(tmp)\n",
    "    tmp = 1\n",
    "print(array)\n",
    "print(near)"
   ]
  },
  {
   "cell_type": "code",
   "execution_count": 23,
   "metadata": {},
   "outputs": [],
   "source": [
    "# TASK 2\n",
    "array = np.random.random((6,6))"
   ]
  },
  {
   "cell_type": "code",
   "execution_count": 27,
   "metadata": {},
   "outputs": [
    {
     "name": "stdout",
     "output_type": "stream",
     "text": [
      "[[0.6512122  0.29858898 0.71666733 0.19050469 0.89716745 0.89920857]\n",
      " [0.04632988 0.15792298 0.33566192 0.50976086 0.27260874 0.9234981 ]\n",
      " [0.16406531 0.49700322 0.68592359 0.05745273 0.20556561 0.49919687]\n",
      " [0.82213127 0.88208132 0.62834964 0.08859564 0.54951572 0.73375988]\n",
      " [0.94674111 0.61633412 0.96826962 0.55233576 0.27665473 0.41762484]\n",
      " [0.94089147 0.99424407 0.31018017 0.24108996 0.4098378  0.79496511]]\n",
      "[78.85514124117739, 14.22074532593069, 6.799942592408481, 64.477938044983, 18.37836720761933, 8.838575286939646]\n"
     ]
    }
   ],
   "source": [
    "res = []\n",
    "tmp1 = 0\n",
    "tmp2 = 1\n",
    "for i in range(6):\n",
    "    for k in range(6):\n",
    "        if array[k, i] < tmp2:\n",
    "            tmp2 = array[k,i]\n",
    "    for j in array[i]:\n",
    "        tmp1 += j\n",
    "    res.append(tmp1/tmp2)\n",
    "    tmp1 = 0\n",
    "    tmp2 = 1\n",
    "print(array)\n",
    "print(res)"
   ]
  },
  {
   "cell_type": "code",
   "execution_count": 28,
   "metadata": {},
   "outputs": [],
   "source": [
    "# TASK 3\n",
    "x = np.array([6, 2, 0, 3, 0, 0, 5, 7, 0])"
   ]
  },
  {
   "cell_type": "code",
   "execution_count": 62,
   "metadata": {},
   "outputs": [
    {
     "name": "stdout",
     "output_type": "stream",
     "text": [
      "[False  True False  True  True False False  True  True]\n",
      "7\n"
     ]
    }
   ],
   "source": [
    "for i in range(len(x)-1):\n",
    "    mask[i] = (x[i+1]==0)\n",
    "m = -1e10\n",
    "print mask\n",
    "for i in x[mask]:\n",
    "    if i>m:\n",
    "        m = i\n",
    "print(m)"
   ]
  },
  {
   "cell_type": "code",
   "execution_count": 66,
   "metadata": {},
   "outputs": [
    {
     "name": "stdout",
     "output_type": "stream",
     "text": [
      "[2. 2. 2. 2. 1. 4. 1. 1. 2. 1.]\n"
     ]
    }
   ],
   "source": [
    "# TASK 4\n",
    "x = np.ones(10)\n",
    "\n",
    "i = np.array([0, 1, 2, 3, 5, 5, 5, 8])\n",
    "for j in i:\n",
    "    x[j]+=1\n",
    "print(x)"
   ]
  },
  {
   "cell_type": "code",
   "execution_count": 69,
   "metadata": {},
   "outputs": [],
   "source": [
    "# TASK 5\n",
    "a = np.arange(16).reshape(4, 4)\n",
    "n = 4"
   ]
  },
  {
   "cell_type": "code",
   "execution_count": 152,
   "metadata": {},
   "outputs": [],
   "source": [
    "d1={k: [a[i,k-i] for i in range(0,k+1)] for k in range(n)}\n",
    "d2={k: [a[k-n+1+i,n-1-i] for i in range(0,2*n-k-1)] for k in range(n, 2*n-1)}\n",
    "d1.update(d2)"
   ]
  },
  {
   "cell_type": "code",
   "execution_count": 153,
   "metadata": {},
   "outputs": [
    {
     "name": "stdout",
     "output_type": "stream",
     "text": [
      "{0: [0], 1: [1, 4], 2: [2, 5, 8], 3: [3, 6, 9, 12], 4: [7, 10, 13], 5: [11, 14], 6: [15]}\n"
     ]
    }
   ],
   "source": [
    "print(d1)"
   ]
  },
  {
   "cell_type": "code",
   "execution_count": 154,
   "metadata": {},
   "outputs": [],
   "source": [
    "# TASK 6\n"
   ]
  },
  {
   "cell_type": "code",
   "execution_count": 8,
   "metadata": {},
   "outputs": [],
   "source": [
    "def kmeans(obs, k_or_guess, iter=20, thresh=1e-5):\n",
    "    best_dist = np.inf\n",
    "    No = obs.shape[0]\n",
    "    k = k_or_guess\n",
    "    for i in range(iter):\n",
    "        guess = take(obs, randint(0, No, k), 0)\n",
    "        book, dist = _kmeans(obs, guess, thresh=thresh)\n",
    "        if dist < best_dist:\n",
    "            best_book = book\n",
    "            best_dist = dist\n",
    "    result = best_book, best_dist\n",
    "    return result"
   ]
  },
  {
   "cell_type": "code",
   "execution_count": null,
   "metadata": {},
   "outputs": [],
   "source": []
  },
  {
   "cell_type": "code",
   "execution_count": null,
   "metadata": {},
   "outputs": [],
   "source": []
  },
  {
   "cell_type": "code",
   "execution_count": null,
   "metadata": {},
   "outputs": [],
   "source": []
  }
 ],
 "metadata": {
  "kernelspec": {
   "display_name": "Python 3",
   "language": "python",
   "name": "python3"
  },
  "language_info": {
   "codemirror_mode": {
    "name": "ipython",
    "version": 3
   },
   "file_extension": ".py",
   "mimetype": "text/x-python",
   "name": "python",
   "nbconvert_exporter": "python",
   "pygments_lexer": "ipython3",
   "version": "3.7.3"
  }
 },
 "nbformat": 4,
 "nbformat_minor": 2
}
